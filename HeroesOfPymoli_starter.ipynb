{
 "cells": [
  {
   "cell_type": "markdown",
   "metadata": {},
   "source": [
    "### Note\n",
    "* Instructions have been included for each segment. You do not have to follow them exactly, but they are included to help you think through the steps."
   ]
  },
  {
   "cell_type": "code",
   "execution_count": 1,
   "metadata": {},
   "outputs": [],
   "source": [
    "# Dependencies and Setup\n",
    "import pandas as pd\n",
    "import numpy as np\n",
    "\n",
    "# File to Load (Remember to Change These)\n",
    "file_to_load = \"Resources/purchase_data.csv\"\n",
    "\n",
    "# Read Purchasing File and store into Pandas data frame\n",
    "purchase_data = pd.read_csv(file_to_load)"
   ]
  },
  {
   "cell_type": "markdown",
   "metadata": {},
   "source": [
    "## Player Count"
   ]
  },
  {
   "cell_type": "markdown",
   "metadata": {},
   "source": [
    "* Display the total number of players\n"
   ]
  },
  {
   "cell_type": "code",
   "execution_count": 2,
   "metadata": {},
   "outputs": [
    {
     "data": {
      "text/html": [
       "<div>\n",
       "<style scoped>\n",
       "    .dataframe tbody tr th:only-of-type {\n",
       "        vertical-align: middle;\n",
       "    }\n",
       "\n",
       "    .dataframe tbody tr th {\n",
       "        vertical-align: top;\n",
       "    }\n",
       "\n",
       "    .dataframe thead th {\n",
       "        text-align: right;\n",
       "    }\n",
       "</style>\n",
       "<table border=\"1\" class=\"dataframe\">\n",
       "  <thead>\n",
       "    <tr style=\"text-align: right;\">\n",
       "      <th></th>\n",
       "      <th>Total Players</th>\n",
       "    </tr>\n",
       "  </thead>\n",
       "  <tbody>\n",
       "    <tr>\n",
       "      <th>0</th>\n",
       "      <td>576</td>\n",
       "    </tr>\n",
       "  </tbody>\n",
       "</table>\n",
       "</div>"
      ],
      "text/plain": [
       "   Total Players\n",
       "0            576"
      ]
     },
     "execution_count": 2,
     "metadata": {},
     "output_type": "execute_result"
    }
   ],
   "source": [
    "player_count = len(purchase_data[\"SN\"].value_counts())\n",
    "pd.DataFrame([player_count], columns = [\"Total Players\"])"
   ]
  },
  {
   "cell_type": "markdown",
   "metadata": {},
   "source": [
    "### Heroes Of Pymoli Data Analysis\n",
    "* Of the 1163 active players, the vast majority are male (84%). There also exists, a smaller, but notable proportion of female players (14%).\n",
    "\n",
    "* Our peak age demographic falls between 20-24 (44.8%) with secondary groups falling between 15-19 (18.60%) and 25-29 (13.4%).  \n",
    "-----"
   ]
  },
  {
   "cell_type": "markdown",
   "metadata": {},
   "source": [
    "## Purchasing Analysis (Total)"
   ]
  },
  {
   "cell_type": "markdown",
   "metadata": {},
   "source": [
    "* Run basic calculations to obtain number of unique items, average price, etc.\n",
    "\n",
    "\n",
    "* Create a summary data frame to hold the results\n",
    "\n",
    "\n",
    "* Optional: give the displayed data cleaner formatting\n",
    "\n",
    "\n",
    "* Display the summary data frame\n"
   ]
  },
  {
   "cell_type": "code",
   "execution_count": 3,
   "metadata": {
    "scrolled": true
   },
   "outputs": [
    {
     "data": {
      "text/html": [
       "<div>\n",
       "<style scoped>\n",
       "    .dataframe tbody tr th:only-of-type {\n",
       "        vertical-align: middle;\n",
       "    }\n",
       "\n",
       "    .dataframe tbody tr th {\n",
       "        vertical-align: top;\n",
       "    }\n",
       "\n",
       "    .dataframe thead th {\n",
       "        text-align: right;\n",
       "    }\n",
       "</style>\n",
       "<table border=\"1\" class=\"dataframe\">\n",
       "  <thead>\n",
       "    <tr style=\"text-align: right;\">\n",
       "      <th></th>\n",
       "      <th>Number of Unique Items</th>\n",
       "      <th>Average Price</th>\n",
       "      <th>Number of Purchases</th>\n",
       "      <th>Total Revenue</th>\n",
       "    </tr>\n",
       "  </thead>\n",
       "  <tbody>\n",
       "    <tr>\n",
       "      <th>0</th>\n",
       "      <td>183</td>\n",
       "      <td>$3.05</td>\n",
       "      <td>780</td>\n",
       "      <td>$2379.77</td>\n",
       "    </tr>\n",
       "  </tbody>\n",
       "</table>\n",
       "</div>"
      ],
      "text/plain": [
       "   Number of Unique Items Average Price  Number of Purchases Total Revenue\n",
       "0                     183         $3.05                  780      $2379.77"
      ]
     },
     "execution_count": 3,
     "metadata": {},
     "output_type": "execute_result"
    }
   ],
   "source": [
    "unique_items = len(purchase_data[\"Item ID\"].value_counts())\n",
    "total_revenue = round(purchase_data[\"Price\"].sum(), 2)\n",
    "num_purchases = purchase_data[\"Price\"].count()\n",
    "average_price = round(purchase_data[\"Price\"].mean(), 2)\n",
    "purchase_analysis = []\n",
    "purchase_analysis.append(unique_items)\n",
    "purchase_analysis.append(\"$\" + str(average_price))\n",
    "purchase_analysis.append(num_purchases)\n",
    "purchase_analysis.append(\"$\" + str(total_revenue))\n",
    "pd.DataFrame([purchase_analysis], columns = [\"Number of Unique Items\", \"Average Price\", \"Number of Purchases\", \"Total Revenue\"])"
   ]
  },
  {
   "cell_type": "markdown",
   "metadata": {},
   "source": [
    "## Gender Demographics"
   ]
  },
  {
   "cell_type": "markdown",
   "metadata": {},
   "source": [
    "* Percentage and Count of Male Players\n",
    "\n",
    "\n",
    "* Percentage and Count of Female Players\n",
    "\n",
    "\n",
    "* Percentage and Count of Other / Non-Disclosed\n",
    "\n",
    "\n"
   ]
  },
  {
   "cell_type": "code",
   "execution_count": 4,
   "metadata": {},
   "outputs": [
    {
     "data": {
      "text/html": [
       "<div>\n",
       "<style scoped>\n",
       "    .dataframe tbody tr th:only-of-type {\n",
       "        vertical-align: middle;\n",
       "    }\n",
       "\n",
       "    .dataframe tbody tr th {\n",
       "        vertical-align: top;\n",
       "    }\n",
       "\n",
       "    .dataframe thead th {\n",
       "        text-align: right;\n",
       "    }\n",
       "</style>\n",
       "<table border=\"1\" class=\"dataframe\">\n",
       "  <thead>\n",
       "    <tr style=\"text-align: right;\">\n",
       "      <th></th>\n",
       "      <th>Percentage of Players</th>\n",
       "      <th>Total Count</th>\n",
       "    </tr>\n",
       "  </thead>\n",
       "  <tbody>\n",
       "    <tr>\n",
       "      <th>Male</th>\n",
       "      <td>84.03</td>\n",
       "      <td>484</td>\n",
       "    </tr>\n",
       "    <tr>\n",
       "      <th>Female</th>\n",
       "      <td>14.06</td>\n",
       "      <td>81</td>\n",
       "    </tr>\n",
       "    <tr>\n",
       "      <th>Other / Non-Disclosed</th>\n",
       "      <td>1.91</td>\n",
       "      <td>11</td>\n",
       "    </tr>\n",
       "  </tbody>\n",
       "</table>\n",
       "</div>"
      ],
      "text/plain": [
       "                       Percentage of Players  Total Count\n",
       "Male                                   84.03          484\n",
       "Female                                 14.06           81\n",
       "Other / Non-Disclosed                   1.91           11"
      ]
     },
     "execution_count": 4,
     "metadata": {},
     "output_type": "execute_result"
    }
   ],
   "source": [
    "gender_grouped = purchase_data[[\"SN\", \"Gender\"]]\n",
    "gender_grouped = gender_grouped.drop_duplicates()\n",
    "counts = gender_grouped[\"Gender\"].value_counts()\n",
    "\n",
    "total_counts = [counts[0],counts[1],counts[2]]\n",
    "percents_g = [round((counts[0]/player_count)*100,2),round((counts[1]/player_count)*100,2),round((counts[2]/player_count)*100,2)]\n",
    "\n",
    "\n",
    "gender_demographics_df = pd.DataFrame({\n",
    "    \"Percentage of Players\": percents_g,\n",
    "    \"Total Count\": total_counts\n",
    "})\n",
    "gender_demographics_df.index = ([\"Male\", \"Female\", \"Other / Non-Disclosed\"])\n",
    "gender_demographics_df"
   ]
  },
  {
   "cell_type": "markdown",
   "metadata": {},
   "source": [
    "\n",
    "## Purchasing Analysis (Gender)"
   ]
  },
  {
   "cell_type": "markdown",
   "metadata": {},
   "source": [
    "* Run basic calculations to obtain purchase count, avg. purchase price, avg. purchase total per person etc. by gender\n",
    "\n",
    "\n",
    "\n",
    "\n",
    "* Create a summary data frame to hold the results\n",
    "\n",
    "\n",
    "* Optional: give the displayed data cleaner formatting\n",
    "\n",
    "\n",
    "* Display the summary data frame"
   ]
  },
  {
   "cell_type": "code",
   "execution_count": 5,
   "metadata": {},
   "outputs": [
    {
     "data": {
      "text/html": [
       "<style  type=\"text/css\" >\n",
       "</style>  \n",
       "<table id=\"T_0f9badae_be82_11e8_ad33_f2189813d3c8\" > \n",
       "<thead>    <tr> \n",
       "        <th class=\"blank level0\" ></th> \n",
       "        <th class=\"col_heading level0 col0\" >Purchase Count</th> \n",
       "        <th class=\"col_heading level0 col1\" >Average Purchase Price</th> \n",
       "        <th class=\"col_heading level0 col2\" >Total Purchase Value</th> \n",
       "        <th class=\"col_heading level0 col3\" >Normalized Totals</th> \n",
       "    </tr>    <tr> \n",
       "        <th class=\"index_name level0\" >Gender</th> \n",
       "        <th class=\"blank\" ></th> \n",
       "        <th class=\"blank\" ></th> \n",
       "        <th class=\"blank\" ></th> \n",
       "        <th class=\"blank\" ></th> \n",
       "    </tr></thead> \n",
       "<tbody>    <tr> \n",
       "        <th id=\"T_0f9badae_be82_11e8_ad33_f2189813d3c8level0_row0\" class=\"row_heading level0 row0\" >Male</th> \n",
       "        <td id=\"T_0f9badae_be82_11e8_ad33_f2189813d3c8row0_col0\" class=\"data row0 col0\" >652</td> \n",
       "        <td id=\"T_0f9badae_be82_11e8_ad33_f2189813d3c8row0_col1\" class=\"data row0 col1\" >$3.02</td> \n",
       "        <td id=\"T_0f9badae_be82_11e8_ad33_f2189813d3c8row0_col2\" class=\"data row0 col2\" >$1967.64</td> \n",
       "        <td id=\"T_0f9badae_be82_11e8_ad33_f2189813d3c8row0_col3\" class=\"data row0 col3\" >$4.07</td> \n",
       "    </tr>    <tr> \n",
       "        <th id=\"T_0f9badae_be82_11e8_ad33_f2189813d3c8level0_row1\" class=\"row_heading level0 row1\" >Female</th> \n",
       "        <td id=\"T_0f9badae_be82_11e8_ad33_f2189813d3c8row1_col0\" class=\"data row1 col0\" >113</td> \n",
       "        <td id=\"T_0f9badae_be82_11e8_ad33_f2189813d3c8row1_col1\" class=\"data row1 col1\" >$3.20</td> \n",
       "        <td id=\"T_0f9badae_be82_11e8_ad33_f2189813d3c8row1_col2\" class=\"data row1 col2\" >$361.94</td> \n",
       "        <td id=\"T_0f9badae_be82_11e8_ad33_f2189813d3c8row1_col3\" class=\"data row1 col3\" >$4.47</td> \n",
       "    </tr>    <tr> \n",
       "        <th id=\"T_0f9badae_be82_11e8_ad33_f2189813d3c8level0_row2\" class=\"row_heading level0 row2\" >Other / Non-Disclosed</th> \n",
       "        <td id=\"T_0f9badae_be82_11e8_ad33_f2189813d3c8row2_col0\" class=\"data row2 col0\" >15</td> \n",
       "        <td id=\"T_0f9badae_be82_11e8_ad33_f2189813d3c8row2_col1\" class=\"data row2 col1\" >$3.35</td> \n",
       "        <td id=\"T_0f9badae_be82_11e8_ad33_f2189813d3c8row2_col2\" class=\"data row2 col2\" >$50.19</td> \n",
       "        <td id=\"T_0f9badae_be82_11e8_ad33_f2189813d3c8row2_col3\" class=\"data row2 col3\" >$4.56</td> \n",
       "    </tr></tbody> \n",
       "</table> "
      ],
      "text/plain": [
       "<pandas.io.formats.style.Styler at 0x10ef804e0>"
      ]
     },
     "execution_count": 5,
     "metadata": {},
     "output_type": "execute_result"
    }
   ],
   "source": [
    "gender_grouped = purchase_data[[\"SN\",\"Gender\",\"Price\"]]\n",
    "counts_g = gender_grouped[\"Gender\"].value_counts()\n",
    "purchase_counts = [counts_g[0],counts_g[1],counts_g[2]]\n",
    "\n",
    "gender_grouped = gender_grouped.groupby(\"Gender\")\n",
    "total_spent = gender_grouped.sum()\n",
    "total_spent\n",
    "total_purchase_value_g = [total_spent.iloc[1,0], total_spent.iloc[0,0], total_spent.iloc[2,0]]\n",
    "avg_purchase_g = [total_spent.iloc[1,0]/counts_g[0], total_spent.iloc[0,0]/counts_g[1], total_spent.iloc[2,0]/counts_g[2]]\n",
    "norm_tot_g = [total_spent.iloc[1,0]/counts[0], total_spent.iloc[0,0]/counts[1], total_spent.iloc[2,0]/counts[2]]\n",
    "purchase_analysis_g_df = pd.DataFrame({\n",
    "    \"Purchase Count\": purchase_counts,\n",
    "    \"Average Purchase Price\": avg_purchase_g,\n",
    "    \"Total Purchase Value\": total_purchase_value_g,\n",
    "    \"Normalized Totals\": norm_tot_g,\n",
    "    \"Gender\": [\"Male\", \"Female\", \"Other / Non-Disclosed\"]\n",
    "})\n",
    "purchase_analysis_g_df = purchase_analysis_g_df.set_index(\"Gender\")\n",
    "purchase_analysis_g_df = purchase_analysis_g_df[[\"Purchase Count\", \"Average Purchase Price\", \"Total Purchase Value\",\n",
    "                                                 \"Normalized Totals\"]]\n",
    "purchase_analysis_g_df.style.format({\"Average Purchase Price\": \"${:.2f}\", \"Normalized Totals\": \"${:.2f}\",\n",
    "                                     \"Total Purchase Value\":\"${:.2f}\"})"
   ]
  },
  {
   "cell_type": "markdown",
   "metadata": {},
   "source": [
    "## Age Demographics"
   ]
  },
  {
   "cell_type": "markdown",
   "metadata": {},
   "source": [
    "* Establish bins for ages\n",
    "\n",
    "\n",
    "* Categorize the existing players using the age bins. Hint: use pd.cut()\n",
    "\n",
    "\n",
    "* Calculate the numbers and percentages by age group\n",
    "\n",
    "\n",
    "* Create a summary data frame to hold the results\n",
    "\n",
    "\n",
    "* Optional: round the percentage column to two decimal points\n",
    "\n",
    "\n",
    "* Display Age Demographics Table\n"
   ]
  },
  {
   "cell_type": "code",
   "execution_count": 10,
   "metadata": {},
   "outputs": [
    {
     "data": {
      "text/html": [
       "<div>\n",
       "<style scoped>\n",
       "    .dataframe tbody tr th:only-of-type {\n",
       "        vertical-align: middle;\n",
       "    }\n",
       "\n",
       "    .dataframe tbody tr th {\n",
       "        vertical-align: top;\n",
       "    }\n",
       "\n",
       "    .dataframe thead th {\n",
       "        text-align: right;\n",
       "    }\n",
       "</style>\n",
       "<table border=\"1\" class=\"dataframe\">\n",
       "  <thead>\n",
       "    <tr style=\"text-align: right;\">\n",
       "      <th></th>\n",
       "      <th>Percent of Players</th>\n",
       "      <th>Total Count</th>\n",
       "    </tr>\n",
       "  </thead>\n",
       "  <tbody>\n",
       "    <tr>\n",
       "      <th>&lt;10</th>\n",
       "      <td>2.95</td>\n",
       "      <td>17</td>\n",
       "    </tr>\n",
       "    <tr>\n",
       "      <th>10-14</th>\n",
       "      <td>3.82</td>\n",
       "      <td>22</td>\n",
       "    </tr>\n",
       "    <tr>\n",
       "      <th>15-19</th>\n",
       "      <td>18.58</td>\n",
       "      <td>107</td>\n",
       "    </tr>\n",
       "    <tr>\n",
       "      <th>20-24</th>\n",
       "      <td>44.79</td>\n",
       "      <td>258</td>\n",
       "    </tr>\n",
       "    <tr>\n",
       "      <th>25-29</th>\n",
       "      <td>13.37</td>\n",
       "      <td>77</td>\n",
       "    </tr>\n",
       "    <tr>\n",
       "      <th>30-34</th>\n",
       "      <td>9.03</td>\n",
       "      <td>52</td>\n",
       "    </tr>\n",
       "    <tr>\n",
       "      <th>35-39</th>\n",
       "      <td>5.38</td>\n",
       "      <td>31</td>\n",
       "    </tr>\n",
       "    <tr>\n",
       "      <th>40+</th>\n",
       "      <td>2.08</td>\n",
       "      <td>12</td>\n",
       "    </tr>\n",
       "  </tbody>\n",
       "</table>\n",
       "</div>"
      ],
      "text/plain": [
       "       Percent of Players  Total Count\n",
       "<10                  2.95           17\n",
       "10-14                3.82           22\n",
       "15-19               18.58          107\n",
       "20-24               44.79          258\n",
       "25-29               13.37           77\n",
       "30-34                9.03           52\n",
       "35-39                5.38           31\n",
       "40+                  2.08           12"
      ]
     },
     "execution_count": 10,
     "metadata": {},
     "output_type": "execute_result"
    }
   ],
   "source": [
    "purchase_data2 = purchase_data[[\"SN\",\"Age\"]]\n",
    "purchase_data2 = purchase_data2.drop_duplicates()\n",
    "age_10 = purchase_data2[purchase_data2[\"Age\"] < 10].count()[0]\n",
    "age_14 = purchase_data2[(purchase_data2[\"Age\"] >= 10) & (purchase_data2[\"Age\"] <= 14)].count()[0]\n",
    "age_19 = purchase_data2[(purchase_data2[\"Age\"] >= 15) & (purchase_data2[\"Age\"] <= 19)].count()[0]\n",
    "age_24 = purchase_data2[(purchase_data2[\"Age\"] >= 20) & (purchase_data2[\"Age\"] <= 24)].count()[0]\n",
    "age_29 = purchase_data2[(purchase_data2[\"Age\"] >= 25) & (purchase_data2[\"Age\"] <= 29)].count()[0]\n",
    "age_34 = purchase_data2[(purchase_data2[\"Age\"] >= 30) & (purchase_data2[\"Age\"] <= 34)].count()[0]\n",
    "age_39 = purchase_data2[(purchase_data2[\"Age\"] >= 35) & (purchase_data2[\"Age\"] <= 39)].count()[0]\n",
    "age_40 = purchase_data2[purchase_data2[\"Age\"] >= 40].count()[0]\n",
    "ages = [age_10, age_14, age_19, age_24, age_29, age_34, age_39, age_40]\n",
    "\n",
    "percent_10 = round((age_10/player_count)*100,2)\n",
    "percent_14 = round((age_14/player_count)*100,2)\n",
    "percent_19 = round((age_19/player_count)*100,2)\n",
    "percent_24 = round((age_24/player_count)*100,2)\n",
    "percent_29 = round((age_29/player_count)*100,2)\n",
    "percent_34 = round((age_34/player_count)*100,2)\n",
    "percent_39 = round((age_39/player_count)*100,2)\n",
    "percent_40 = round((age_40/player_count)*100,2)\n",
    "percents_a = [percent_10, percent_14, percent_19, percent_24, percent_29, percent_34, percent_39, percent_40]\n",
    "age_demo = {\n",
    "        \"Percent of Players\": percents_a,\n",
    "        \"Total Count\": ages\n",
    "    }\n",
    "age_demo_df = pd.DataFrame(age_demo)\n",
    "age_demo_df.index = ([\"<10\", \"10-14\", \"15-19\", \"20-24\", \"25-29\", \"30-34\", \"35-39\", \"40+\"])\n",
    "age_demo_df"
   ]
  },
  {
   "cell_type": "markdown",
   "metadata": {},
   "source": [
    "## Purchasing Analysis (Age)"
   ]
  },
  {
   "cell_type": "markdown",
   "metadata": {},
   "source": [
    "* Bin the purchase_data data frame by age\n",
    "\n",
    "\n",
    "* Run basic calculations to obtain purchase count, avg. purchase price, avg. purchase total per person etc. in the table below\n",
    "\n",
    "\n",
    "* Create a summary data frame to hold the results\n",
    "\n",
    "\n",
    "* Optional: give the displayed data cleaner formatting\n",
    "\n",
    "\n",
    "* Display the summary data frame"
   ]
  },
  {
   "cell_type": "code",
   "execution_count": 11,
   "metadata": {},
   "outputs": [
    {
     "data": {
      "text/html": [
       "<style  type=\"text/css\" >\n",
       "</style>  \n",
       "<table id=\"T_31755922_be85_11e8_ace3_f2189813d3c8\" > \n",
       "<thead>    <tr> \n",
       "        <th class=\"blank level0\" ></th> \n",
       "        <th class=\"col_heading level0 col0\" >Purchase Count</th> \n",
       "        <th class=\"col_heading level0 col1\" >Average Purchase Price</th> \n",
       "        <th class=\"col_heading level0 col2\" >Total Purchase Value</th> \n",
       "        <th class=\"col_heading level0 col3\" >Normalized Totals</th> \n",
       "    </tr></thead> \n",
       "<tbody>    <tr> \n",
       "        <th id=\"T_31755922_be85_11e8_ace3_f2189813d3c8level0_row0\" class=\"row_heading level0 row0\" ><10</th> \n",
       "        <td id=\"T_31755922_be85_11e8_ace3_f2189813d3c8row0_col0\" class=\"data row0 col0\" >23</td> \n",
       "        <td id=\"T_31755922_be85_11e8_ace3_f2189813d3c8row0_col1\" class=\"data row0 col1\" >$3.35</td> \n",
       "        <td id=\"T_31755922_be85_11e8_ace3_f2189813d3c8row0_col2\" class=\"data row0 col2\" >$77.13</td> \n",
       "        <td id=\"T_31755922_be85_11e8_ace3_f2189813d3c8row0_col3\" class=\"data row0 col3\" >$4.54</td> \n",
       "    </tr>    <tr> \n",
       "        <th id=\"T_31755922_be85_11e8_ace3_f2189813d3c8level0_row1\" class=\"row_heading level0 row1\" >10-14</th> \n",
       "        <td id=\"T_31755922_be85_11e8_ace3_f2189813d3c8row1_col0\" class=\"data row1 col0\" >28</td> \n",
       "        <td id=\"T_31755922_be85_11e8_ace3_f2189813d3c8row1_col1\" class=\"data row1 col1\" >$2.96</td> \n",
       "        <td id=\"T_31755922_be85_11e8_ace3_f2189813d3c8row1_col2\" class=\"data row1 col2\" >$82.78</td> \n",
       "        <td id=\"T_31755922_be85_11e8_ace3_f2189813d3c8row1_col3\" class=\"data row1 col3\" >$3.76</td> \n",
       "    </tr>    <tr> \n",
       "        <th id=\"T_31755922_be85_11e8_ace3_f2189813d3c8level0_row2\" class=\"row_heading level0 row2\" >15-19</th> \n",
       "        <td id=\"T_31755922_be85_11e8_ace3_f2189813d3c8row2_col0\" class=\"data row2 col0\" >136</td> \n",
       "        <td id=\"T_31755922_be85_11e8_ace3_f2189813d3c8row2_col1\" class=\"data row2 col1\" >$3.04</td> \n",
       "        <td id=\"T_31755922_be85_11e8_ace3_f2189813d3c8row2_col2\" class=\"data row2 col2\" >$412.89</td> \n",
       "        <td id=\"T_31755922_be85_11e8_ace3_f2189813d3c8row2_col3\" class=\"data row2 col3\" >$3.86</td> \n",
       "    </tr>    <tr> \n",
       "        <th id=\"T_31755922_be85_11e8_ace3_f2189813d3c8level0_row3\" class=\"row_heading level0 row3\" >20-24</th> \n",
       "        <td id=\"T_31755922_be85_11e8_ace3_f2189813d3c8row3_col0\" class=\"data row3 col0\" >365</td> \n",
       "        <td id=\"T_31755922_be85_11e8_ace3_f2189813d3c8row3_col1\" class=\"data row3 col1\" >$3.05</td> \n",
       "        <td id=\"T_31755922_be85_11e8_ace3_f2189813d3c8row3_col2\" class=\"data row3 col2\" >$1114.06</td> \n",
       "        <td id=\"T_31755922_be85_11e8_ace3_f2189813d3c8row3_col3\" class=\"data row3 col3\" >$4.32</td> \n",
       "    </tr>    <tr> \n",
       "        <th id=\"T_31755922_be85_11e8_ace3_f2189813d3c8level0_row4\" class=\"row_heading level0 row4\" >25-29</th> \n",
       "        <td id=\"T_31755922_be85_11e8_ace3_f2189813d3c8row4_col0\" class=\"data row4 col0\" >101</td> \n",
       "        <td id=\"T_31755922_be85_11e8_ace3_f2189813d3c8row4_col1\" class=\"data row4 col1\" >$2.90</td> \n",
       "        <td id=\"T_31755922_be85_11e8_ace3_f2189813d3c8row4_col2\" class=\"data row4 col2\" >$293.00</td> \n",
       "        <td id=\"T_31755922_be85_11e8_ace3_f2189813d3c8row4_col3\" class=\"data row4 col3\" >$3.81</td> \n",
       "    </tr>    <tr> \n",
       "        <th id=\"T_31755922_be85_11e8_ace3_f2189813d3c8level0_row5\" class=\"row_heading level0 row5\" >30-34</th> \n",
       "        <td id=\"T_31755922_be85_11e8_ace3_f2189813d3c8row5_col0\" class=\"data row5 col0\" >73</td> \n",
       "        <td id=\"T_31755922_be85_11e8_ace3_f2189813d3c8row5_col1\" class=\"data row5 col1\" >$2.93</td> \n",
       "        <td id=\"T_31755922_be85_11e8_ace3_f2189813d3c8row5_col2\" class=\"data row5 col2\" >$214.00</td> \n",
       "        <td id=\"T_31755922_be85_11e8_ace3_f2189813d3c8row5_col3\" class=\"data row5 col3\" >$4.12</td> \n",
       "    </tr>    <tr> \n",
       "        <th id=\"T_31755922_be85_11e8_ace3_f2189813d3c8level0_row6\" class=\"row_heading level0 row6\" >34-39</th> \n",
       "        <td id=\"T_31755922_be85_11e8_ace3_f2189813d3c8row6_col0\" class=\"data row6 col0\" >41</td> \n",
       "        <td id=\"T_31755922_be85_11e8_ace3_f2189813d3c8row6_col1\" class=\"data row6 col1\" >$3.60</td> \n",
       "        <td id=\"T_31755922_be85_11e8_ace3_f2189813d3c8row6_col2\" class=\"data row6 col2\" >$147.67</td> \n",
       "        <td id=\"T_31755922_be85_11e8_ace3_f2189813d3c8row6_col3\" class=\"data row6 col3\" >$4.76</td> \n",
       "    </tr>    <tr> \n",
       "        <th id=\"T_31755922_be85_11e8_ace3_f2189813d3c8level0_row7\" class=\"row_heading level0 row7\" >40+</th> \n",
       "        <td id=\"T_31755922_be85_11e8_ace3_f2189813d3c8row7_col0\" class=\"data row7 col0\" >13</td> \n",
       "        <td id=\"T_31755922_be85_11e8_ace3_f2189813d3c8row7_col1\" class=\"data row7 col1\" >$2.94</td> \n",
       "        <td id=\"T_31755922_be85_11e8_ace3_f2189813d3c8row7_col2\" class=\"data row7 col2\" >$38.24</td> \n",
       "        <td id=\"T_31755922_be85_11e8_ace3_f2189813d3c8row7_col3\" class=\"data row7 col3\" >$3.19</td> \n",
       "    </tr></tbody> \n",
       "</table> "
      ],
      "text/plain": [
       "<pandas.io.formats.style.Styler at 0x1104e9048>"
      ]
     },
     "execution_count": 11,
     "metadata": {},
     "output_type": "execute_result"
    }
   ],
   "source": [
    "purchase_10 = purchase_data[purchase_data[\"Age\"] < 10].count()[0]\n",
    "purchase_14 = purchase_data[(purchase_data[\"Age\"] >= 10) & (purchase_data[\"Age\"] <= 14)].count()[0]\n",
    "purchase_19 = purchase_data[(purchase_data[\"Age\"] >= 15) & (purchase_data[\"Age\"] <= 19)].count()[0]\n",
    "purchase_24 = purchase_data[(purchase_data[\"Age\"] >= 20) & (purchase_data[\"Age\"] <= 24)].count()[0]\n",
    "purchase_29 = purchase_data[(purchase_data[\"Age\"] >= 25) & (purchase_data[\"Age\"] <= 29)].count()[0]\n",
    "purchase_34 = purchase_data[(purchase_data[\"Age\"] >= 30) & (purchase_data[\"Age\"] <= 34)].count()[0]\n",
    "purchase_39 = purchase_data[(purchase_data[\"Age\"] >= 35) & (purchase_data[\"Age\"] <= 39)].count()[0]\n",
    "purchase_40 = purchase_data[purchase_data[\"Age\"] >= 40].count()[0]\n",
    "purchases_a = [purchase_10, purchase_14, purchase_19, purchase_24, purchase_29, purchase_34, purchase_39, purchase_40]\n",
    "total_10 = purchase_data.loc[purchase_data['Age'] < 10, 'Price'].sum()\n",
    "total_14 = purchase_data.loc[(purchase_data['Age'] >= 10) & (purchase_data['Age'] <=14), 'Price'].sum()\n",
    "total_19 = purchase_data.loc[(purchase_data['Age'] >= 15) & (purchase_data['Age'] <=19), 'Price'].sum()\n",
    "total_24 = purchase_data.loc[(purchase_data['Age'] >= 20) & (purchase_data['Age'] <=24), 'Price'].sum()\n",
    "total_29 = purchase_data.loc[(purchase_data['Age'] >= 25) & (purchase_data['Age'] <=29), 'Price'].sum()\n",
    "total_34 = purchase_data.loc[(purchase_data['Age'] >= 30) & (purchase_data['Age'] <=34), 'Price'].sum()\n",
    "total_39 = purchase_data.loc[(purchase_data['Age'] >= 35) & (purchase_data['Age'] <=39), 'Price'].sum()\n",
    "total_40 = purchase_data.loc[purchase_data['Age'] >= 40, 'Price'].sum()\n",
    "totals_a = [total_10, total_14, total_19, total_24, total_29, total_34, total_39, total_40]\n",
    "\n",
    "avg_price_a = [total_10/purchase_10, total_14/purchase_14, total_19/purchase_19, total_24/purchase_24, total_29/purchase_29,\n",
    "              total_34/purchase_34, total_39/purchase_39, total_40/purchase_40]\n",
    "norms_a = [total_10/age_10, total_14/age_14, total_19/age_19, total_24/age_24, total_29/age_29, total_34/age_34,\n",
    "           total_39/age_39, total_40/age_40]\n",
    "puchase_analysis_a = {\n",
    "    \"Purchase Count\": purchases_a,\n",
    "    \"Average Purchase Price\": avg_price_a,\n",
    "    \"Total Purchase Value\": totals_a,\n",
    "    \"Normalized Totals\": norms_a\n",
    "}\n",
    "\n",
    "purchase_analysis_a_df = pd.DataFrame(puchase_analysis_a)\n",
    "purchase_analysis_a_df = purchase_analysis_a_df[['Purchase Count', 'Average Purchase Price', 'Total Purchase Value',\n",
    "                                                 'Normalized Totals']]\n",
    "purchase_analysis_a_df.index = ([\"<10\", \"10-14\",\"15-19\",\"20-24\",\"25-29\",\"30-34\",\"34-39\",\"40+\"])\n",
    "purchase_analysis_a_df.style.format({\"Average Purchase Price\": \"${:.2f}\", \"Normalized Totals\": \"${:.2f}\",\n",
    "                                     \"Total Purchase Value\":\"${:.2f}\"})"
   ]
  },
  {
   "cell_type": "markdown",
   "metadata": {},
   "source": [
    "## Top Spenders"
   ]
  },
  {
   "cell_type": "markdown",
   "metadata": {},
   "source": [
    "* Run basic calculations to obtain the results in the table below\n",
    "\n",
    "\n",
    "* Create a summary data frame to hold the results\n",
    "\n",
    "\n",
    "* Sort the total purchase value column in descending order\n",
    "\n",
    "\n",
    "* Optional: give the displayed data cleaner formatting\n",
    "\n",
    "\n",
    "* Display a preview of the summary data frame\n",
    "\n"
   ]
  },
  {
   "cell_type": "code",
   "execution_count": 15,
   "metadata": {},
   "outputs": [
    {
     "data": {
      "text/html": [
       "<style  type=\"text/css\" >\n",
       "</style>  \n",
       "<table id=\"T_55ee82d2_be86_11e8_8255_f2189813d3c8\" > \n",
       "<thead>    <tr> \n",
       "        <th class=\"blank level0\" ></th> \n",
       "        <th class=\"col_heading level0 col0\" >Purchase Count</th> \n",
       "        <th class=\"col_heading level0 col1\" >Average Purchase Price</th> \n",
       "        <th class=\"col_heading level0 col2\" >Total Purchase Value</th> \n",
       "    </tr>    <tr> \n",
       "        <th class=\"index_name level0\" >SN</th> \n",
       "        <th class=\"blank\" ></th> \n",
       "        <th class=\"blank\" ></th> \n",
       "        <th class=\"blank\" ></th> \n",
       "    </tr></thead> \n",
       "<tbody>    <tr> \n",
       "        <th id=\"T_55ee82d2_be86_11e8_8255_f2189813d3c8level0_row0\" class=\"row_heading level0 row0\" >Lisosia93</th> \n",
       "        <td id=\"T_55ee82d2_be86_11e8_8255_f2189813d3c8row0_col0\" class=\"data row0 col0\" >5</td> \n",
       "        <td id=\"T_55ee82d2_be86_11e8_8255_f2189813d3c8row0_col1\" class=\"data row0 col1\" >$3.79</td> \n",
       "        <td id=\"T_55ee82d2_be86_11e8_8255_f2189813d3c8row0_col2\" class=\"data row0 col2\" >$18.96</td> \n",
       "    </tr>    <tr> \n",
       "        <th id=\"T_55ee82d2_be86_11e8_8255_f2189813d3c8level0_row1\" class=\"row_heading level0 row1\" >Idastidru52</th> \n",
       "        <td id=\"T_55ee82d2_be86_11e8_8255_f2189813d3c8row1_col0\" class=\"data row1 col0\" >4</td> \n",
       "        <td id=\"T_55ee82d2_be86_11e8_8255_f2189813d3c8row1_col1\" class=\"data row1 col1\" >$3.86</td> \n",
       "        <td id=\"T_55ee82d2_be86_11e8_8255_f2189813d3c8row1_col2\" class=\"data row1 col2\" >$15.45</td> \n",
       "    </tr>    <tr> \n",
       "        <th id=\"T_55ee82d2_be86_11e8_8255_f2189813d3c8level0_row2\" class=\"row_heading level0 row2\" >Chamjask73</th> \n",
       "        <td id=\"T_55ee82d2_be86_11e8_8255_f2189813d3c8row2_col0\" class=\"data row2 col0\" >3</td> \n",
       "        <td id=\"T_55ee82d2_be86_11e8_8255_f2189813d3c8row2_col1\" class=\"data row2 col1\" >$4.61</td> \n",
       "        <td id=\"T_55ee82d2_be86_11e8_8255_f2189813d3c8row2_col2\" class=\"data row2 col2\" >$13.83</td> \n",
       "    </tr>    <tr> \n",
       "        <th id=\"T_55ee82d2_be86_11e8_8255_f2189813d3c8level0_row3\" class=\"row_heading level0 row3\" >Iral74</th> \n",
       "        <td id=\"T_55ee82d2_be86_11e8_8255_f2189813d3c8row3_col0\" class=\"data row3 col0\" >4</td> \n",
       "        <td id=\"T_55ee82d2_be86_11e8_8255_f2189813d3c8row3_col1\" class=\"data row3 col1\" >$3.40</td> \n",
       "        <td id=\"T_55ee82d2_be86_11e8_8255_f2189813d3c8row3_col2\" class=\"data row3 col2\" >$13.62</td> \n",
       "    </tr>    <tr> \n",
       "        <th id=\"T_55ee82d2_be86_11e8_8255_f2189813d3c8level0_row4\" class=\"row_heading level0 row4\" >Iskadarya95</th> \n",
       "        <td id=\"T_55ee82d2_be86_11e8_8255_f2189813d3c8row4_col0\" class=\"data row4 col0\" >3</td> \n",
       "        <td id=\"T_55ee82d2_be86_11e8_8255_f2189813d3c8row4_col1\" class=\"data row4 col1\" >$4.37</td> \n",
       "        <td id=\"T_55ee82d2_be86_11e8_8255_f2189813d3c8row4_col2\" class=\"data row4 col2\" >$13.10</td> \n",
       "    </tr></tbody> \n",
       "</table> "
      ],
      "text/plain": [
       "<pandas.io.formats.style.Styler at 0x1105324a8>"
      ]
     },
     "execution_count": 15,
     "metadata": {},
     "output_type": "execute_result"
    }
   ],
   "source": [
    "purchase_data3 = purchase_data[[\"SN\",\"Price\",\"Item Name\"]]\n",
    "total_spent = purchase_data3.groupby(\"SN\").sum()\n",
    "total_spent.sort_values(by = \"Price\", ascending = False, inplace = True)\n",
    "names = list(total_spent.index.values)\n",
    "top_names = [names[0],names[1],names[2],names[3],names[4]]\n",
    "total_purchase_values_1 = total_spent.iloc[0,0]\n",
    "total_purchase_values_2 = total_spent.iloc[1,0]\n",
    "total_purchase_values_3 = total_spent.iloc[2,0]\n",
    "total_purchase_values_4 = total_spent.iloc[3,0]\n",
    "total_purchase_values_5 = total_spent.iloc[4,0]\n",
    "top_purchase_values = [total_spent.iloc[0,0], total_spent.iloc[1,0], total_spent.iloc[2,0], total_spent.iloc[3,0],\n",
    "                      total_spent.iloc[4,0]]\n",
    "top_purchase_counts_1 = purchase_data3[purchase_data3[\"SN\"] == names[0]].count()[0]\n",
    "top_purchase_counts_2 = purchase_data3[purchase_data3[\"SN\"] == names[1]].count()[0]\n",
    "top_purchase_counts_3 = purchase_data3[purchase_data3[\"SN\"] == names[2]].count()[0]\n",
    "top_purchase_counts_4 = purchase_data3[purchase_data3[\"SN\"] == names[3]].count()[0]\n",
    "top_purchase_counts_5 = purchase_data3[purchase_data3[\"SN\"] == names[4]].count()[0]\n",
    "top_purchase_counts = [top_purchase_counts_1, top_purchase_counts_2, top_purchase_counts_3, top_purchase_counts_4,\n",
    "                       top_purchase_counts_5]\n",
    "avg_price_1 = total_purchase_values_1/top_purchase_counts_1\n",
    "avg_price_2 = total_purchase_values_2/top_purchase_counts_2\n",
    "avg_price_3 = total_purchase_values_3/top_purchase_counts_3\n",
    "avg_price_4 = total_purchase_values_4/top_purchase_counts_4\n",
    "avg_price_5 = total_purchase_values_5/top_purchase_counts_5\n",
    "avg_prices = [avg_price_1, avg_price_2, avg_price_3, avg_price_4, avg_price_5]\n",
    "top_spenders_dict = {\n",
    "    \"Purchase Count\": top_purchase_counts,\n",
    "    \"Average Purchase Price\": avg_prices,\n",
    "    \"Total Purchase Value\": top_purchase_values,\n",
    "    \"SN\": top_names\n",
    "}\n",
    "top_spenders_df = pd.DataFrame(top_spenders_dict)\n",
    "top_spenders_df = top_spenders_df.set_index(\"SN\")\n",
    "top_spenders_df = top_spenders_df[[\"Purchase Count\", \"Average Purchase Price\", \"Total Purchase Value\"]]\n",
    "top_spenders_df.style.format({\"Average Purchase Price\": \"${:.2f}\", \"Total Purchase Value\": \"${:.2f}\"})"
   ]
  },
  {
   "cell_type": "markdown",
   "metadata": {},
   "source": [
    "## Most Popular Items"
   ]
  },
  {
   "cell_type": "markdown",
   "metadata": {},
   "source": [
    "* Retrieve the Item ID, Item Name, and Item Price columns\n",
    "\n",
    "\n",
    "* Group by Item ID and Item Name. Perform calculations to obtain purchase count, item price, and total purchase value\n",
    "\n",
    "\n",
    "* Create a summary data frame to hold the results\n",
    "\n",
    "\n",
    "* Sort the purchase count column in descending order\n",
    "\n",
    "\n",
    "* Optional: give the displayed data cleaner formatting\n",
    "\n",
    "\n",
    "* Display a preview of the summary data frame\n",
    "\n"
   ]
  },
  {
   "cell_type": "code",
   "execution_count": 16,
   "metadata": {},
   "outputs": [
    {
     "data": {
      "text/html": [
       "<style  type=\"text/css\" >\n",
       "</style>  \n",
       "<table id=\"T_458bcc3a_be87_11e8_9f6f_f2189813d3c8\" > \n",
       "<thead>    <tr> \n",
       "        <th class=\"blank\" ></th> \n",
       "        <th class=\"blank level0\" ></th> \n",
       "        <th class=\"col_heading level0 col0\" >Purchase Count</th> \n",
       "        <th class=\"col_heading level0 col1\" >Item Price</th> \n",
       "        <th class=\"col_heading level0 col2\" >Total Purchase Value</th> \n",
       "    </tr>    <tr> \n",
       "        <th class=\"index_name level0\" >Item ID</th> \n",
       "        <th class=\"index_name level1\" >Item Name</th> \n",
       "        <th class=\"blank\" ></th> \n",
       "        <th class=\"blank\" ></th> \n",
       "        <th class=\"blank\" ></th> \n",
       "    </tr></thead> \n",
       "<tbody>    <tr> \n",
       "        <th id=\"T_458bcc3a_be87_11e8_9f6f_f2189813d3c8level0_row0\" class=\"row_heading level0 row0\" >178</th> \n",
       "        <th id=\"T_458bcc3a_be87_11e8_9f6f_f2189813d3c8level1_row0\" class=\"row_heading level1 row0\" >Oathbreaker, Last Hope of the Breaking Storm</th> \n",
       "        <td id=\"T_458bcc3a_be87_11e8_9f6f_f2189813d3c8row0_col0\" class=\"data row0 col0\" >12</td> \n",
       "        <td id=\"T_458bcc3a_be87_11e8_9f6f_f2189813d3c8row0_col1\" class=\"data row0 col1\" >$4.23</td> \n",
       "        <td id=\"T_458bcc3a_be87_11e8_9f6f_f2189813d3c8row0_col2\" class=\"data row0 col2\" >$50.76</td> \n",
       "    </tr>    <tr> \n",
       "        <th id=\"T_458bcc3a_be87_11e8_9f6f_f2189813d3c8level0_row1\" class=\"row_heading level0 row1\" >145</th> \n",
       "        <th id=\"T_458bcc3a_be87_11e8_9f6f_f2189813d3c8level1_row1\" class=\"row_heading level1 row1\" >Fiery Glass Crusader</th> \n",
       "        <td id=\"T_458bcc3a_be87_11e8_9f6f_f2189813d3c8row1_col0\" class=\"data row1 col0\" >9</td> \n",
       "        <td id=\"T_458bcc3a_be87_11e8_9f6f_f2189813d3c8row1_col1\" class=\"data row1 col1\" >$4.58</td> \n",
       "        <td id=\"T_458bcc3a_be87_11e8_9f6f_f2189813d3c8row1_col2\" class=\"data row1 col2\" >$41.22</td> \n",
       "    </tr>    <tr> \n",
       "        <th id=\"T_458bcc3a_be87_11e8_9f6f_f2189813d3c8level0_row2\" class=\"row_heading level0 row2\" >108</th> \n",
       "        <th id=\"T_458bcc3a_be87_11e8_9f6f_f2189813d3c8level1_row2\" class=\"row_heading level1 row2\" >Extraction, Quickblade Of Trembling Hands</th> \n",
       "        <td id=\"T_458bcc3a_be87_11e8_9f6f_f2189813d3c8row2_col0\" class=\"data row2 col0\" >9</td> \n",
       "        <td id=\"T_458bcc3a_be87_11e8_9f6f_f2189813d3c8row2_col1\" class=\"data row2 col1\" >$3.53</td> \n",
       "        <td id=\"T_458bcc3a_be87_11e8_9f6f_f2189813d3c8row2_col2\" class=\"data row2 col2\" >$31.77</td> \n",
       "    </tr>    <tr> \n",
       "        <th id=\"T_458bcc3a_be87_11e8_9f6f_f2189813d3c8level0_row3\" class=\"row_heading level0 row3\" >82</th> \n",
       "        <th id=\"T_458bcc3a_be87_11e8_9f6f_f2189813d3c8level1_row3\" class=\"row_heading level1 row3\" >Nirvana</th> \n",
       "        <td id=\"T_458bcc3a_be87_11e8_9f6f_f2189813d3c8row3_col0\" class=\"data row3 col0\" >9</td> \n",
       "        <td id=\"T_458bcc3a_be87_11e8_9f6f_f2189813d3c8row3_col1\" class=\"data row3 col1\" >$4.90</td> \n",
       "        <td id=\"T_458bcc3a_be87_11e8_9f6f_f2189813d3c8row3_col2\" class=\"data row3 col2\" >$44.10</td> \n",
       "    </tr>    <tr> \n",
       "        <th id=\"T_458bcc3a_be87_11e8_9f6f_f2189813d3c8level0_row4\" class=\"row_heading level0 row4\" >19</th> \n",
       "        <th id=\"T_458bcc3a_be87_11e8_9f6f_f2189813d3c8level1_row4\" class=\"row_heading level1 row4\" >Pursuit, Cudgel of Necromancy</th> \n",
       "        <td id=\"T_458bcc3a_be87_11e8_9f6f_f2189813d3c8row4_col0\" class=\"data row4 col0\" >8</td> \n",
       "        <td id=\"T_458bcc3a_be87_11e8_9f6f_f2189813d3c8row4_col1\" class=\"data row4 col1\" >$1.02</td> \n",
       "        <td id=\"T_458bcc3a_be87_11e8_9f6f_f2189813d3c8row4_col2\" class=\"data row4 col2\" >$8.16</td> \n",
       "    </tr></tbody> \n",
       "</table> "
      ],
      "text/plain": [
       "<pandas.io.formats.style.Styler at 0x1104e99b0>"
      ]
     },
     "execution_count": 16,
     "metadata": {},
     "output_type": "execute_result"
    }
   ],
   "source": [
    "purchase_data4 = purchase_data[[\"Item ID\", \"Item Name\", \"Price\"]]\n",
    "pop_items = purchase_data4.groupby(\"Item ID\").count()\n",
    "pop_items.sort_values(by = \"Item Name\", ascending = False, inplace = True)\n",
    "purchase_data4 = purchase_data4.drop_duplicates([\"Item ID\", \"Item Name\"])\n",
    "item_ids = [pop_items.index[0], pop_items.index[1], pop_items.index[2], pop_items.index[3], pop_items.index[4]]\n",
    "name_1 = purchase_data4.loc[purchase_data4[\"Item ID\"] == item_ids[0], \"Item Name\"].item()\n",
    "name_2 = purchase_data4.loc[purchase_data4[\"Item ID\"] == item_ids[1], \"Item Name\"].item()\n",
    "name_3 = purchase_data4.loc[purchase_data4[\"Item ID\"] == item_ids[2], \"Item Name\"].item()\n",
    "name_4 = purchase_data4.loc[purchase_data4[\"Item ID\"] == item_ids[3], \"Item Name\"].item()\n",
    "name_5 = purchase_data4.loc[purchase_data4[\"Item ID\"] == item_ids[4], \"Item Name\"].item()\n",
    "pop_item_names = [name_1, name_2, name_3, name_4, name_5]\n",
    "item_counts = [pop_items.iloc[0,0], pop_items.iloc[1,0], pop_items.iloc[2,0], pop_items.iloc[3,0], pop_items.iloc[4,0]]\n",
    "\n",
    "price_1 = purchase_data4.loc[purchase_data4[\"Item Name\"] == pop_item_names[0], \"Price\"].item()\n",
    "price_2 = purchase_data4.loc[purchase_data4[\"Item Name\"] == pop_item_names[1], \"Price\"].item()\n",
    "price_3 = purchase_data4.loc[purchase_data4[\"Item Name\"] == pop_item_names[2], \"Price\"].item()\n",
    "price_4 = purchase_data4.loc[purchase_data4[\"Item Name\"] == pop_item_names[3], \"Price\"].item()\n",
    "price_5 = purchase_data4.loc[purchase_data4[\"Item Name\"] == pop_item_names[4], \"Price\"].item()\n",
    "item_prices = [price_1,price_2,price_3,price_4,price_5]\n",
    "\n",
    "total_values = [pop_items.iloc[0,0]*price_1, pop_items.iloc[1,0]*price_2, pop_items.iloc[2,0]*price_3, \n",
    "                pop_items.iloc[3,0]*price_4, pop_items.iloc[4,0]*price_5]\n",
    "\n",
    "pop_items_df = pd.DataFrame({\n",
    "    \"Item ID\": item_ids,\n",
    "    \"Item Name\": pop_item_names,\n",
    "    \"Purchase Count\": item_counts,\n",
    "    \"Item Price\": item_prices,\n",
    "    \"Total Purchase Value\": total_values\n",
    "})\n",
    "pop_items_df = pop_items_df.set_index([\"Item ID\", \"Item Name\"])\n",
    "pop_items_df = pop_items_df[[\"Purchase Count\", \"Item Price\", \"Total Purchase Value\"]]\n",
    "pop_items_df.style.format({\"Item Price\": \"${:.2f}\", \"Total Purchase Value\": \"${:.2f}\"})\n"
   ]
  },
  {
   "cell_type": "markdown",
   "metadata": {},
   "source": [
    "## Most Profitable Items"
   ]
  },
  {
   "cell_type": "markdown",
   "metadata": {},
   "source": [
    "* Sort the above table by total purchase value in descending order\n",
    "\n",
    "\n",
    "* Optional: give the displayed data cleaner formatting\n",
    "\n",
    "\n",
    "* Display a preview of the data frame\n",
    "\n"
   ]
  },
  {
   "cell_type": "code",
   "execution_count": 17,
   "metadata": {
    "scrolled": true
   },
   "outputs": [
    {
     "data": {
      "text/html": [
       "<style  type=\"text/css\" >\n",
       "</style>  \n",
       "<table id=\"T_410da8fa_be88_11e8_a4ec_f2189813d3c8\" > \n",
       "<thead>    <tr> \n",
       "        <th class=\"blank\" ></th> \n",
       "        <th class=\"blank level0\" ></th> \n",
       "        <th class=\"col_heading level0 col0\" >Purchase Count</th> \n",
       "        <th class=\"col_heading level0 col1\" >Item Price</th> \n",
       "        <th class=\"col_heading level0 col2\" >Total Purchase Value</th> \n",
       "    </tr>    <tr> \n",
       "        <th class=\"index_name level0\" >Item ID</th> \n",
       "        <th class=\"index_name level1\" >Item Name</th> \n",
       "        <th class=\"blank\" ></th> \n",
       "        <th class=\"blank\" ></th> \n",
       "        <th class=\"blank\" ></th> \n",
       "    </tr></thead> \n",
       "<tbody>    <tr> \n",
       "        <th id=\"T_410da8fa_be88_11e8_a4ec_f2189813d3c8level0_row0\" class=\"row_heading level0 row0\" >178</th> \n",
       "        <th id=\"T_410da8fa_be88_11e8_a4ec_f2189813d3c8level1_row0\" class=\"row_heading level1 row0\" >Oathbreaker, Last Hope of the Breaking Storm</th> \n",
       "        <td id=\"T_410da8fa_be88_11e8_a4ec_f2189813d3c8row0_col0\" class=\"data row0 col0\" >12</td> \n",
       "        <td id=\"T_410da8fa_be88_11e8_a4ec_f2189813d3c8row0_col1\" class=\"data row0 col1\" >$4.23</td> \n",
       "        <td id=\"T_410da8fa_be88_11e8_a4ec_f2189813d3c8row0_col2\" class=\"data row0 col2\" >$50.76</td> \n",
       "    </tr>    <tr> \n",
       "        <th id=\"T_410da8fa_be88_11e8_a4ec_f2189813d3c8level0_row1\" class=\"row_heading level0 row1\" >82</th> \n",
       "        <th id=\"T_410da8fa_be88_11e8_a4ec_f2189813d3c8level1_row1\" class=\"row_heading level1 row1\" >Nirvana</th> \n",
       "        <td id=\"T_410da8fa_be88_11e8_a4ec_f2189813d3c8row1_col0\" class=\"data row1 col0\" >9</td> \n",
       "        <td id=\"T_410da8fa_be88_11e8_a4ec_f2189813d3c8row1_col1\" class=\"data row1 col1\" >$4.90</td> \n",
       "        <td id=\"T_410da8fa_be88_11e8_a4ec_f2189813d3c8row1_col2\" class=\"data row1 col2\" >$44.10</td> \n",
       "    </tr>    <tr> \n",
       "        <th id=\"T_410da8fa_be88_11e8_a4ec_f2189813d3c8level0_row2\" class=\"row_heading level0 row2\" >145</th> \n",
       "        <th id=\"T_410da8fa_be88_11e8_a4ec_f2189813d3c8level1_row2\" class=\"row_heading level1 row2\" >Fiery Glass Crusader</th> \n",
       "        <td id=\"T_410da8fa_be88_11e8_a4ec_f2189813d3c8row2_col0\" class=\"data row2 col0\" >9</td> \n",
       "        <td id=\"T_410da8fa_be88_11e8_a4ec_f2189813d3c8row2_col1\" class=\"data row2 col1\" >$4.58</td> \n",
       "        <td id=\"T_410da8fa_be88_11e8_a4ec_f2189813d3c8row2_col2\" class=\"data row2 col2\" >$41.22</td> \n",
       "    </tr>    <tr> \n",
       "        <th id=\"T_410da8fa_be88_11e8_a4ec_f2189813d3c8level0_row3\" class=\"row_heading level0 row3\" >92</th> \n",
       "        <th id=\"T_410da8fa_be88_11e8_a4ec_f2189813d3c8level1_row3\" class=\"row_heading level1 row3\" >Final Critic</th> \n",
       "        <td id=\"T_410da8fa_be88_11e8_a4ec_f2189813d3c8row3_col0\" class=\"data row3 col0\" >13</td> \n",
       "        <td id=\"T_410da8fa_be88_11e8_a4ec_f2189813d3c8row3_col1\" class=\"data row3 col1\" >$4.88</td> \n",
       "        <td id=\"T_410da8fa_be88_11e8_a4ec_f2189813d3c8row3_col2\" class=\"data row3 col2\" >$39.04</td> \n",
       "    </tr>    <tr> \n",
       "        <th id=\"T_410da8fa_be88_11e8_a4ec_f2189813d3c8level0_row4\" class=\"row_heading level0 row4\" >103</th> \n",
       "        <th id=\"T_410da8fa_be88_11e8_a4ec_f2189813d3c8level1_row4\" class=\"row_heading level1 row4\" >Singed Scalpel</th> \n",
       "        <td id=\"T_410da8fa_be88_11e8_a4ec_f2189813d3c8row4_col0\" class=\"data row4 col0\" >8</td> \n",
       "        <td id=\"T_410da8fa_be88_11e8_a4ec_f2189813d3c8row4_col1\" class=\"data row4 col1\" >$4.35</td> \n",
       "        <td id=\"T_410da8fa_be88_11e8_a4ec_f2189813d3c8row4_col2\" class=\"data row4 col2\" >$34.80</td> \n",
       "    </tr></tbody> \n",
       "</table> "
      ],
      "text/plain": [
       "<pandas.io.formats.style.Styler at 0x1104b6c50>"
      ]
     },
     "execution_count": 17,
     "metadata": {},
     "output_type": "execute_result"
    }
   ],
   "source": [
    "purchase_data4 = purchase_data[[\"Item ID\", \"Item Name\", \"Price\"]]\n",
    "profit_items = purchase_data4.groupby(\"Item ID\").sum()\n",
    "profit_items.sort_values(by = \"Price\", ascending = False, inplace = True)\n",
    "purchase_data4 = purchase_data4.drop_duplicates([\"Item ID\", \"Price\"])\n",
    "item_ids = [profit_items.index[0], profit_items.index[1], profit_items.index[2], profit_items.index[3], profit_items.index[4]]\n",
    "name_1 = purchase_data4.loc[purchase_data4[\"Item ID\"] == item_ids[0], \"Item Name\"].item()\n",
    "name_2 = purchase_data4.loc[purchase_data4[\"Item ID\"] == item_ids[1], \"Item Name\"].item()\n",
    "name_3 = purchase_data4.loc[purchase_data4[\"Item ID\"] == item_ids[2], \"Item Name\"].item()\n",
    "name_4 = purchase_data4.loc[purchase_data4[\"Item ID\"] == item_ids[3], \"Item Name\"].item()\n",
    "name_5 = purchase_data4.loc[purchase_data4[\"Item ID\"] == item_ids[4], \"Item Name\"].item()\n",
    "profit_names = [name_1, name_2, name_3, name_4, name_5]\n",
    "\n",
    "values = [profit_items.iloc[0,0],profit_items.iloc[1,0],profit_items.iloc[2,0],profit_items.iloc[3,0],profit_items.iloc[4,0]]\n",
    "\n",
    "price_1 = purchase_data4.loc[purchase_data4[\"Item ID\"] == item_ids[0], \"Price\"].item()\n",
    "price_2 = purchase_data4.loc[purchase_data4[\"Item ID\"] == item_ids[1], \"Price\"].item()\n",
    "price_3 = purchase_data4.loc[purchase_data4[\"Item ID\"] == item_ids[2], \"Price\"].item()\n",
    "price_4 = purchase_data4.loc[purchase_data4[\"Item ID\"] == item_ids[3], \"Price\"].item()\n",
    "price_5 = purchase_data4.loc[purchase_data4[\"Item ID\"] == item_ids[4], \"Price\"].item()\n",
    "profit_prices = [price_1,price_2,price_3,price_4,price_5]\n",
    "\n",
    "purchase_data5 = purchase_data[[\"Item ID\", \"Item Name\", \"Price\"]].groupby(\"Item Name\").count()\n",
    "count_1 = purchase_data5.loc[purchase_data5.index == profit_names[0], \"Item ID\"].item()\n",
    "count_2 = purchase_data5.loc[purchase_data5.index == profit_names[1], \"Item ID\"].item()\n",
    "count_3 = purchase_data5.loc[purchase_data5.index == profit_names[2], \"Item ID\"].item()\n",
    "count_4 = purchase_data5.loc[purchase_data5.index == profit_names[3], \"Item ID\"].item()\n",
    "count_5 = purchase_data5.loc[purchase_data5.index == profit_names[4], \"Item ID\"].item()\n",
    "counts = [count_1, count_2, count_3, count_4, count_5]\n",
    "\n",
    "profit_items_df = pd.DataFrame({\n",
    "    \"Item ID\": item_ids,\n",
    "    \"Item Name\": profit_names,\n",
    "    \"Purchase Count\": counts,\n",
    "    \"Item Price\": profit_prices,\n",
    "    \"Total Purchase Value\": values\n",
    "})\n",
    "profit_items_df = profit_items_df.set_index([\"Item ID\", \"Item Name\"])\n",
    "profit_items_df = profit_items_df[[\"Purchase Count\", \"Item Price\", \"Total Purchase Value\"]]\n",
    "profit_items_df.style.format({\"Item Price\": \"${:.2f}\", \"Total Purchase Value\": \"${:.2f}\"})\n"
   ]
  },
  {
   "cell_type": "code",
   "execution_count": null,
   "metadata": {},
   "outputs": [],
   "source": []
  }
 ],
 "metadata": {
  "anaconda-cloud": {},
  "kernel_info": {
   "name": "python3"
  },
  "kernelspec": {
   "display_name": "Python 3",
   "language": "python",
   "name": "python3"
  },
  "language_info": {
   "codemirror_mode": {
    "name": "ipython",
    "version": 3
   },
   "file_extension": ".py",
   "mimetype": "text/x-python",
   "name": "python",
   "nbconvert_exporter": "python",
   "pygments_lexer": "ipython3",
   "version": "3.6.5"
  },
  "nteract": {
   "version": "0.2.0"
  }
 },
 "nbformat": 4,
 "nbformat_minor": 2
}
